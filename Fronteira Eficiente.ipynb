{
 "cells": [
  {
   "cell_type": "markdown",
   "id": "aaca1ffd-8626-4b83-b665-8d6042a12993",
   "metadata": {},
   "source": [
    "Criando sistema de fronteira eficiente para uma carteira de dois ativos"
   ]
  },
  {
   "cell_type": "code",
   "execution_count": 1,
   "id": "c1d94cda-8026-40aa-8b68-70f0ba4df0a0",
   "metadata": {},
   "outputs": [],
   "source": [
    "# Define as bibliotecas a serem usadas\n",
    "import yfinance as yf\n",
    "import pandas as pd\n",
    "import numpy as np\n",
    "import plotly.graph_objects as go\n",
    "from ipywidgets import interact\n"
   ]
  },
  {
   "cell_type": "code",
   "execution_count": 2,
   "id": "a5a30cc8-07ee-4238-93c4-7755be4bc55e",
   "metadata": {},
   "outputs": [],
   "source": [
    "tickers = ['PETR4.SA', 'VALE3.SA']\n",
    "periodo = '1y'"
   ]
  },
  {
   "cell_type": "code",
   "execution_count": 3,
   "id": "c5ee3f51-7465-47b1-9d94-9d328eed545f",
   "metadata": {},
   "outputs": [],
   "source": [
    "def fix_col_names(df):\n",
    "    return['IBOV' if col == '^BVSP' else col.rstrip('.SA') for col in df.columns]"
   ]
  },
  {
   "cell_type": "code",
   "execution_count": 4,
   "id": "b28a0555-6fc9-44c9-9ca0-a5143165c09a",
   "metadata": {},
   "outputs": [
    {
     "name": "stdout",
     "output_type": "stream",
     "text": [
      "[*********************100%***********************]  2 of 2 completed\n"
     ]
    }
   ],
   "source": [
    "val = yf.download(tickers, period=periodo, rounding=True)['Adj Close']\n",
    "val.columns = fix_col_names(val)\n",
    "val.dropna(inplace=True)\n",
    "retorno = val.pct_change().dropna()\n",
    "ativos = retorno.columns.to_list()"
   ]
  },
  {
   "cell_type": "code",
   "execution_count": 5,
   "id": "629243a6-81c1-4fe1-af06-1226a15be932",
   "metadata": {},
   "outputs": [],
   "source": [
    "def calcula_carteira(df, w1):\n",
    "    pesos = [w1,(1-w1)]\n",
    "    df2 = df.dot(pesos).copy()\n",
    "    return df2.mean()*252, df2.std()*np.sqrt(252)"
   ]
  },
  {
   "cell_type": "code",
   "execution_count": 6,
   "id": "a5d4e95e-e600-4511-9f57-f77dfaa7a53f",
   "metadata": {},
   "outputs": [
    {
     "data": {
      "text/html": [
       "<div>\n",
       "<style scoped>\n",
       "    .dataframe tbody tr th:only-of-type {\n",
       "        vertical-align: middle;\n",
       "    }\n",
       "\n",
       "    .dataframe tbody tr th {\n",
       "        vertical-align: top;\n",
       "    }\n",
       "\n",
       "    .dataframe thead th {\n",
       "        text-align: right;\n",
       "    }\n",
       "</style>\n",
       "<table border=\"1\" class=\"dataframe\">\n",
       "  <thead>\n",
       "    <tr style=\"text-align: right;\">\n",
       "      <th></th>\n",
       "      <th>retorno</th>\n",
       "      <th>volatilidade</th>\n",
       "    </tr>\n",
       "  </thead>\n",
       "  <tbody>\n",
       "    <tr>\n",
       "      <th>0.00</th>\n",
       "      <td>1.099152</td>\n",
       "      <td>0.342608</td>\n",
       "    </tr>\n",
       "    <tr>\n",
       "      <th>0.01</th>\n",
       "      <td>1.092519</td>\n",
       "      <td>0.341213</td>\n",
       "    </tr>\n",
       "    <tr>\n",
       "      <th>0.02</th>\n",
       "      <td>1.085885</td>\n",
       "      <td>0.339870</td>\n",
       "    </tr>\n",
       "    <tr>\n",
       "      <th>0.03</th>\n",
       "      <td>1.079252</td>\n",
       "      <td>0.338581</td>\n",
       "    </tr>\n",
       "    <tr>\n",
       "      <th>0.04</th>\n",
       "      <td>1.072618</td>\n",
       "      <td>0.337345</td>\n",
       "    </tr>\n",
       "    <tr>\n",
       "      <th>...</th>\n",
       "      <td>...</td>\n",
       "      <td>...</td>\n",
       "    </tr>\n",
       "    <tr>\n",
       "      <th>0.96</th>\n",
       "      <td>0.462329</td>\n",
       "      <td>0.454047</td>\n",
       "    </tr>\n",
       "    <tr>\n",
       "      <th>0.97</th>\n",
       "      <td>0.455695</td>\n",
       "      <td>0.457167</td>\n",
       "    </tr>\n",
       "    <tr>\n",
       "      <th>0.98</th>\n",
       "      <td>0.449062</td>\n",
       "      <td>0.460309</td>\n",
       "    </tr>\n",
       "    <tr>\n",
       "      <th>0.99</th>\n",
       "      <td>0.442428</td>\n",
       "      <td>0.463472</td>\n",
       "    </tr>\n",
       "    <tr>\n",
       "      <th>1.00</th>\n",
       "      <td>0.435795</td>\n",
       "      <td>0.466657</td>\n",
       "    </tr>\n",
       "  </tbody>\n",
       "</table>\n",
       "<p>101 rows × 2 columns</p>\n",
       "</div>"
      ],
      "text/plain": [
       "       retorno  volatilidade\n",
       "0.00  1.099152      0.342608\n",
       "0.01  1.092519      0.341213\n",
       "0.02  1.085885      0.339870\n",
       "0.03  1.079252      0.338581\n",
       "0.04  1.072618      0.337345\n",
       "...        ...           ...\n",
       "0.96  0.462329      0.454047\n",
       "0.97  0.455695      0.457167\n",
       "0.98  0.449062      0.460309\n",
       "0.99  0.442428      0.463472\n",
       "1.00  0.435795      0.466657\n",
       "\n",
       "[101 rows x 2 columns]"
      ]
     },
     "execution_count": 6,
     "metadata": {},
     "output_type": "execute_result"
    }
   ],
   "source": [
    "carteira = pd.DataFrame()\n",
    "for i in np.linspace(0,1, 101):\n",
    "    media, std = calcula_carteira(retorno, i)\n",
    "    carteira.at[i,'retorno'] = media\n",
    "    carteira.at[i,'volatilidade'] = std\n",
    "\n",
    "carteira"
   ]
  },
  {
   "cell_type": "code",
   "execution_count": 7,
   "id": "2b4b6f85-378c-4ef7-857f-ae5ca994d39e",
   "metadata": {},
   "outputs": [],
   "source": [
    "min_vol_idx = carteira['volatilidade'].idxmin()"
   ]
  },
  {
   "cell_type": "code",
   "execution_count": 8,
   "id": "6a4c5684-1146-452f-b003-40cb4de5ac52",
   "metadata": {},
   "outputs": [],
   "source": [
    "if (carteira['retorno'].iloc[0] > carteira['retorno'].iloc[1]):\n",
    "    front_ef = carteira.loc[:min_vol_idx, :]\n",
    "else:\n",
    "    front_ef = carteira.loc[min_vol_idx:, :]"
   ]
  },
  {
   "cell_type": "code",
   "execution_count": 10,
   "id": "a17c0ca2-46f4-400a-8a49-882b6337b9ab",
   "metadata": {},
   "outputs": [
    {
     "data": {
      "application/vnd.jupyter.widget-view+json": {
       "model_id": "1accebdeddfd4314a7905585904ed199",
       "version_major": 2,
       "version_minor": 0
      },
      "text/plain": [
       "interactive(children=(IntSlider(value=50, description='w1'), Checkbox(value=True, description='mostrar_curvas'…"
      ]
     },
     "metadata": {},
     "output_type": "display_data"
    }
   ],
   "source": [
    "def gerar_grafico(w1, mostrar_curvas):\n",
    "  fig = go.Figure()\n",
    "\n",
    "  # Desenha um ponto com o retorno e a volatilidade da carteira\n",
    "  fig.add_scatter(y=[carteira.iloc[w1]['retorno']], \n",
    "                  x=[carteira.iloc[w1]['volatilidade']], \n",
    "                  text=['CARTEIRA'],\n",
    "                  mode='markers+text', name='CARTEIRA')\n",
    "  \n",
    "  # Desenha os pontos das ações individuais\n",
    "  fig.add_scatter(y=carteira.iloc[[-1,0]]['retorno'], \n",
    "                  x=carteira.iloc[[-1,0]]['volatilidade'], \n",
    "                  text=ativos,\n",
    "                  mode='markers+text', name='Ações')\n",
    "  \n",
    "  # Desenha a curva\n",
    "  fig.add_scatter(y=carteira['retorno'], \n",
    "                  x=carteira['volatilidade'],                  \n",
    "                  mode='lines', name='Curva', \n",
    "                  visible=mostrar_curvas)\n",
    "\n",
    "  # Plota carteira de volatilidade mínima   \n",
    "  fig.add_scatter(y=[carteira.loc[min_vol_idx]['retorno']], \n",
    "                  x=[carteira.loc[min_vol_idx]['volatilidade']],                  \n",
    "                  mode='markers', \n",
    "                  name='Carteira de Mínima Variância',\n",
    "                  visible=mostrar_curvas)\n",
    "      \n",
    "  # Desenha a fronteira eficiente\n",
    "  fig.add_scatter(y=front_ef['retorno'], \n",
    "                  x=front_ef['volatilidade'],                  \n",
    "                  mode='lines', name='Fronteira Eficiente', \n",
    "                  line={'color':'red'},\n",
    "                  visible=mostrar_curvas)\n",
    "                \n",
    "  fig.update_traces(textfont_size=12, \n",
    "                  textposition='top center', \n",
    "                  textfont_color='white',\n",
    "                  hovertemplate='<b>retorno: </b> %{y:.1%}'+\n",
    "                                '<br><b>volatilidade:</b> %{x:.1%}')\n",
    "  fig.layout.autosize = False\n",
    "  fig.layout.xaxis.title='Volatilidade'\n",
    "  fig.layout.yaxis.title='Retorno Esperado'\n",
    "  fig.layout.xaxis.range = [carteira['volatilidade'].min()-0.05, carteira['volatilidade'].max()+0.05]\n",
    "  fig.layout.yaxis.range = [carteira['retorno'].min()-0.05, carteira['retorno'].max()+0.05]\n",
    "  fig.layout.xaxis.tickformat = '.0%'\n",
    "  fig.layout.yaxis.tickformat = '.0%'\n",
    "  fig.layout.title = f\"<b>{ativos[0]}:</b> {w1}%  <b>{ativos[1]}:</b> {100-w1}%\"\n",
    "  fig.layout.template = 'plotly_dark'\n",
    "                   \n",
    "  fig.show(config=dict(\n",
    "                    displayModeBar=True\n",
    "                ))\n",
    "\n",
    "interact(gerar_grafico, w1=(0,100, 1), mostrar_curvas=True);"
   ]
  },
  {
   "cell_type": "code",
   "execution_count": null,
   "id": "a097c872-ff1d-439c-9f98-de4bb59ff843",
   "metadata": {},
   "outputs": [],
   "source": []
  }
 ],
 "metadata": {
  "kernelspec": {
   "display_name": "Python 3",
   "language": "python",
   "name": "python3"
  },
  "language_info": {
   "codemirror_mode": {
    "name": "ipython",
    "version": 3
   },
   "file_extension": ".py",
   "mimetype": "text/x-python",
   "name": "python",
   "nbconvert_exporter": "python",
   "pygments_lexer": "ipython3",
   "version": "3.8.8"
  }
 },
 "nbformat": 4,
 "nbformat_minor": 5
}
